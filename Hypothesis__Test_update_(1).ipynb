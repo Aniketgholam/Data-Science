{
  "nbformat": 4,
  "nbformat_minor": 0,
  "metadata": {
    "kernelspec": {
      "display_name": "Python 3",
      "language": "python",
      "name": "python3"
    },
    "language_info": {
      "codemirror_mode": {
        "name": "ipython",
        "version": 3
      },
      "file_extension": ".py",
      "mimetype": "text/x-python",
      "name": "python",
      "nbconvert_exporter": "python",
      "pygments_lexer": "ipython3",
      "version": "3.7.3"
    },
    "varInspector": {
      "cols": {
        "lenName": 16,
        "lenType": 16,
        "lenVar": 40
      },
      "kernels_config": {
        "python": {
          "delete_cmd_postfix": "",
          "delete_cmd_prefix": "del ",
          "library": "var_list.py",
          "varRefreshCmd": "print(var_dic_list())"
        },
        "r": {
          "delete_cmd_postfix": ") ",
          "delete_cmd_prefix": "rm(",
          "library": "var_list.r",
          "varRefreshCmd": "cat(var_dic_list()) "
        }
      },
      "types_to_exclude": [
        "module",
        "function",
        "builtin_function_or_method",
        "instance",
        "_Feature"
      ],
      "window_display": false
    },
    "colab": {
      "name": "Hypothesis _Test_update (1).ipynb",
      "provenance": [],
      "include_colab_link": true
    }
  },
  "cells": [
    {
      "cell_type": "markdown",
      "metadata": {
        "id": "view-in-github",
        "colab_type": "text"
      },
      "source": [
        "<a href=\"https://colab.research.google.com/github/Aniketgholam/Data-Science/blob/main/Hypothesis__Test_update_(1).ipynb\" target=\"_parent\"><img src=\"https://colab.research.google.com/assets/colab-badge.svg\" alt=\"Open In Colab\"/></a>"
      ]
    },
    {
      "cell_type": "code",
      "metadata": {
        "ExecuteTime": {
          "end_time": "2020-11-22T05:24:35.867801Z",
          "start_time": "2020-11-22T05:24:25.582578Z"
        },
        "id": "Nun-RKJNwaVl"
      },
      "source": [
        "#import the libraries\n",
        "import pandas as pd\n",
        "import scipy \n",
        "import numpy as np\n",
        "from scipy import stats "
      ],
      "execution_count": 1,
      "outputs": []
    },
    {
      "cell_type": "markdown",
      "metadata": {
        "id": "bzDyLrHzwaVs"
      },
      "source": [
        "# Super Market example"
      ]
    },
    {
      "cell_type": "code",
      "metadata": {
        "ExecuteTime": {
          "end_time": "2020-11-22T05:46:25.256956Z",
          "start_time": "2020-11-22T05:46:25.245986Z"
        },
        "id": "UfLrv7LuwaVt",
        "outputId": "33cffc32-1af5-4217-9f03-11aa3bc2fd80"
      },
      "source": [
        "(130-120)/(40/np.sqrt(80)) "
      ],
      "execution_count": null,
      "outputs": [
        {
          "output_type": "execute_result",
          "data": {
            "text/plain": [
              "2.23606797749979"
            ]
          },
          "metadata": {
            "tags": []
          },
          "execution_count": 17
        }
      ]
    },
    {
      "cell_type": "code",
      "metadata": {
        "ExecuteTime": {
          "end_time": "2020-11-22T05:45:46.327876Z",
          "start_time": "2020-11-22T05:45:46.316904Z"
        },
        "id": "wU-rA2Q8waVu",
        "outputId": "37ff8212-5fc9-4542-c8b1-bda595d09cee"
      },
      "source": [
        "stats.t.pdf((130-120)/(40/np.sqrt(80)) ,df=79) "
      ],
      "execution_count": null,
      "outputs": [
        {
          "output_type": "execute_result",
          "data": {
            "text/plain": [
              "0.03415450236778749"
            ]
          },
          "metadata": {
            "tags": []
          },
          "execution_count": 16
        }
      ]
    },
    {
      "cell_type": "code",
      "metadata": {
        "ExecuteTime": {
          "end_time": "2020-11-22T05:46:59.746246Z",
          "start_time": "2020-11-22T05:46:59.735276Z"
        },
        "id": "KhLABmK-waVw",
        "outputId": "845b3b1c-36da-4b24-810a-e8df8de68873"
      },
      "source": [
        "stats.t.pdf(2.23,df=79) "
      ],
      "execution_count": null,
      "outputs": [
        {
          "output_type": "execute_result",
          "data": {
            "text/plain": [
              "0.034598186322708634"
            ]
          },
          "metadata": {
            "tags": []
          },
          "execution_count": 18
        }
      ]
    },
    {
      "cell_type": "markdown",
      "metadata": {
        "id": "pmJBEJlAwaVx"
      },
      "source": [
        "# Call Center example"
      ]
    },
    {
      "cell_type": "code",
      "metadata": {
        "ExecuteTime": {
          "end_time": "2020-10-06T15:54:47.873872Z",
          "start_time": "2020-10-06T15:54:47.865892Z"
        },
        "id": "LSm1AZO8waVy",
        "outputId": "5c24fdef-6301-4a50-c611-1b70c7efd12e"
      },
      "source": [
        "(4.6-4)/(3/np.sqrt(50))"
      ],
      "execution_count": null,
      "outputs": [
        {
          "output_type": "execute_result",
          "data": {
            "text/plain": [
              "1.4142135623730943"
            ]
          },
          "metadata": {
            "tags": []
          },
          "execution_count": 5
        }
      ]
    },
    {
      "cell_type": "code",
      "metadata": {
        "ExecuteTime": {
          "end_time": "2020-10-06T15:56:17.748863Z",
          "start_time": "2020-10-06T15:56:17.739887Z"
        },
        "id": "OPtpKAUYwaVz",
        "outputId": "6a64af8e-44ca-4ef3-8573-721ae7901b0e"
      },
      "source": [
        "stats.t.pdf(1.41,df=49)"
      ],
      "execution_count": null,
      "outputs": [
        {
          "output_type": "execute_result",
          "data": {
            "text/plain": [
              "0.1468505947367777"
            ]
          },
          "metadata": {
            "tags": []
          },
          "execution_count": 8
        }
      ]
    },
    {
      "cell_type": "code",
      "metadata": {
        "ExecuteTime": {
          "end_time": "2020-10-06T15:56:57.259516Z",
          "start_time": "2020-10-06T15:56:57.250400Z"
        },
        "id": "S5jCLspWwaV0",
        "outputId": "3abc38cc-3bb4-46d2-ae3c-8920f80493e2"
      },
      "source": [
        "stats.t.ppf(0.975,49) "
      ],
      "execution_count": null,
      "outputs": [
        {
          "output_type": "execute_result",
          "data": {
            "text/plain": [
              "2.009575234489209"
            ]
          },
          "metadata": {
            "tags": []
          },
          "execution_count": 9
        }
      ]
    },
    {
      "cell_type": "code",
      "metadata": {
        "ExecuteTime": {
          "end_time": "2020-10-07T01:55:45.536578Z",
          "start_time": "2020-10-07T01:55:45.442359Z"
        },
        "id": "FS_RlrXGwaV1",
        "outputId": "bef2bab5-5f1b-4b3c-bc8b-dacfab420001"
      },
      "source": [
        "(5.3-4)/(3/np.sqrt(50)) "
      ],
      "execution_count": null,
      "outputs": [
        {
          "output_type": "execute_result",
          "data": {
            "text/plain": [
              "3.0641293851417055"
            ]
          },
          "metadata": {
            "tags": []
          },
          "execution_count": 52
        }
      ]
    },
    {
      "cell_type": "code",
      "metadata": {
        "ExecuteTime": {
          "end_time": "2020-10-07T01:55:55.095819Z",
          "start_time": "2020-10-07T01:55:55.010177Z"
        },
        "id": "vKx7gU2NwaV1",
        "outputId": "a2be361e-88f5-4ce2-8ae5-f2c3c3de509e"
      },
      "source": [
        "stats.t.pdf(3.06,49) "
      ],
      "execution_count": null,
      "outputs": [
        {
          "output_type": "execute_result",
          "data": {
            "text/plain": [
              "0.005012387335891231"
            ]
          },
          "metadata": {
            "tags": []
          },
          "execution_count": 53
        }
      ]
    },
    {
      "cell_type": "code",
      "metadata": {
        "ExecuteTime": {
          "end_time": "2020-10-06T15:59:50.210979Z",
          "start_time": "2020-10-06T15:59:50.203004Z"
        },
        "id": "EDbqdyCywaV2",
        "outputId": "2ef982b5-07d3-4790-960c-c53b82453a0b"
      },
      "source": [
        "stats.t.ppf(0.975,49) "
      ],
      "execution_count": null,
      "outputs": [
        {
          "output_type": "execute_result",
          "data": {
            "text/plain": [
              "2.009575234489209"
            ]
          },
          "metadata": {
            "tags": []
          },
          "execution_count": 11
        }
      ]
    },
    {
      "cell_type": "markdown",
      "metadata": {
        "id": "FAIa2_R9waV3"
      },
      "source": [
        "# One tail test"
      ]
    },
    {
      "cell_type": "code",
      "metadata": {
        "ExecuteTime": {
          "end_time": "2020-10-07T02:10:52.619966Z",
          "start_time": "2020-10-07T02:10:52.449077Z"
        },
        "id": "LJS_SUNxwaV3"
      },
      "source": [
        "data=pd.Series([0.593, 0.142, 0.329, 0.691, 0.231, 0.793, 0.519, 0.392, 0.418])"
      ],
      "execution_count": null,
      "outputs": []
    },
    {
      "cell_type": "code",
      "metadata": {
        "ExecuteTime": {
          "end_time": "2020-10-07T02:10:54.616599Z",
          "start_time": "2020-10-07T02:10:54.473903Z"
        },
        "id": "3fqGwqNPwaV3",
        "outputId": "b91caedc-2d6e-4d45-8aa2-60e177d88b60"
      },
      "source": [
        "p=scipy.stats.ttest_1samp(data,0.3)\n",
        "p"
      ],
      "execution_count": null,
      "outputs": [
        {
          "output_type": "execute_result",
          "data": {
            "text/plain": [
              "Ttest_1sampResult(statistic=2.2050588385131595, pvalue=0.058530329684897645)"
            ]
          },
          "metadata": {
            "tags": []
          },
          "execution_count": 55
        }
      ]
    },
    {
      "cell_type": "markdown",
      "metadata": {
        "id": "klpYRKORwaV4"
      },
      "source": [
        "# 2 SampleT  test"
      ]
    },
    {
      "cell_type": "code",
      "metadata": {
        "ExecuteTime": {
          "end_time": "2020-10-07T02:25:38.934270Z",
          "start_time": "2020-10-07T02:25:38.798636Z"
        },
        "id": "hprpTp7owaV4"
      },
      "source": [
        "Control=pd.Series([91, 87, 99, 77, 88, 91])\n",
        "Treat =pd.Series([101, 110, 103, 93, 99, 104])  \n"
      ],
      "execution_count": null,
      "outputs": []
    },
    {
      "cell_type": "code",
      "metadata": {
        "ExecuteTime": {
          "end_time": "2020-10-07T02:25:43.395553Z",
          "start_time": "2020-10-07T02:25:43.290716Z"
        },
        "id": "ili97NemwaV5",
        "outputId": "5b9629d3-4b48-4567-efaa-b09b235447aa"
      },
      "source": [
        "stats.ttest_ind(Control,Treat) "
      ],
      "execution_count": null,
      "outputs": [
        {
          "output_type": "execute_result",
          "data": {
            "text/plain": [
              "Ttest_indResult(statistic=-3.445612673536487, pvalue=0.006272124350809802)"
            ]
          },
          "metadata": {
            "tags": []
          },
          "execution_count": 57
        }
      ]
    },
    {
      "cell_type": "markdown",
      "metadata": {
        "id": "CpsnypsDwaV5"
      },
      "source": [
        "# 2 Proportion TTest"
      ]
    },
    {
      "cell_type": "code",
      "metadata": {
        "ExecuteTime": {
          "end_time": "2020-10-06T16:32:08.063368Z",
          "start_time": "2020-10-06T16:32:08.058381Z"
        },
        "id": "tHzgIZHUwaV6"
      },
      "source": [
        "import numpy as np\n",
        "import pandas as pd"
      ],
      "execution_count": null,
      "outputs": []
    },
    {
      "cell_type": "code",
      "metadata": {
        "ExecuteTime": {
          "end_time": "2020-10-06T16:12:05.873279Z",
          "start_time": "2020-10-06T16:12:05.868291Z"
        },
        "id": "zfCIscjwwaV6"
      },
      "source": [
        "#Data:\n",
        "\n",
        "n1 = 247\n",
        "p1 = .37\n",
        "\n",
        "n2 = 308\n",
        "p2 = .39"
      ],
      "execution_count": null,
      "outputs": []
    },
    {
      "cell_type": "code",
      "metadata": {
        "ExecuteTime": {
          "end_time": "2020-10-06T16:36:40.966326Z",
          "start_time": "2020-10-06T16:36:40.954357Z"
        },
        "id": "Fc52YAR4waV7",
        "outputId": "1e95c37f-4218-4924-ea69-45e5606cc9fa"
      },
      "source": [
        "population1 = np.random.binomial(1,p1, n1) \n",
        "population2 = np.random.binomial(1,p2, n2) \n",
        "population1"
      ],
      "execution_count": null,
      "outputs": [
        {
          "output_type": "execute_result",
          "data": {
            "text/plain": [
              "array([1, 1, 0, 0, 0, 1, 0, 0, 0, 0, 0, 0, 1, 1, 1, 1, 1, 1, 0, 0, 1, 0,\n",
              "       0, 0, 0, 0, 0, 0, 0, 1, 1, 1, 1, 0, 1, 0, 0, 0, 0, 0, 0, 0, 1, 0,\n",
              "       1, 0, 1, 1, 0, 0, 1, 0, 0, 0, 1, 0, 0, 1, 1, 0, 0, 0, 0, 1, 0, 1,\n",
              "       1, 0, 0, 0, 0, 0, 0, 0, 0, 0, 0, 0, 1, 1, 0, 0, 0, 0, 1, 0, 0, 0,\n",
              "       0, 1, 1, 0, 0, 0, 1, 0, 0, 0, 1, 0, 0, 0, 0, 1, 0, 0, 1, 0, 0, 1,\n",
              "       1, 0, 1, 0, 1, 1, 0, 1, 1, 1, 1, 0, 0, 0, 1, 1, 0, 1, 1, 0, 0, 0,\n",
              "       0, 0, 0, 0, 0, 1, 1, 1, 0, 0, 1, 0, 0, 0, 0, 1, 0, 0, 0, 0, 0, 1,\n",
              "       0, 1, 1, 0, 1, 0, 0, 1, 1, 0, 0, 0, 1, 0, 0, 0, 0, 1, 0, 1, 0, 1,\n",
              "       0, 1, 0, 0, 0, 0, 0, 0, 1, 0, 0, 0, 1, 0, 1, 0, 1, 0, 1, 0, 1, 0,\n",
              "       1, 0, 0, 0, 1, 0, 0, 0, 0, 1, 0, 0, 0, 1, 0, 0, 1, 0, 1, 1, 0, 0,\n",
              "       0, 0, 1, 0, 1, 0, 1, 0, 0, 0, 0, 0, 1, 1, 0, 0, 0, 0, 1, 1, 1, 0,\n",
              "       0, 1, 1, 0, 0])"
            ]
          },
          "metadata": {
            "tags": []
          },
          "execution_count": 49
        }
      ]
    },
    {
      "cell_type": "code",
      "metadata": {
        "ExecuteTime": {
          "end_time": "2020-10-06T16:36:45.306062Z",
          "start_time": "2020-10-06T16:36:45.297086Z"
        },
        "id": "vQQb15a8waV7",
        "outputId": "8bf54a32-f459-400d-8e16-dafab164db63"
      },
      "source": [
        "population1.mean()\n",
        "population2.mean()"
      ],
      "execution_count": null,
      "outputs": [
        {
          "output_type": "execute_result",
          "data": {
            "text/plain": [
              "0.39935064935064934"
            ]
          },
          "metadata": {
            "tags": []
          },
          "execution_count": 50
        }
      ]
    },
    {
      "cell_type": "code",
      "metadata": {
        "ExecuteTime": {
          "end_time": "2020-10-06T16:36:48.066944Z",
          "start_time": "2020-10-06T16:36:48.057968Z"
        },
        "id": "z1gra8nfwaV8",
        "outputId": "2abc43b4-8e72-42e9-a1de-939c73029804"
      },
      "source": [
        "import statsmodels.api as sm\n",
        "sm.stats.ttest_ind(population1, population2)"
      ],
      "execution_count": null,
      "outputs": [
        {
          "output_type": "execute_result",
          "data": {
            "text/plain": [
              "(-1.1368826328440305, 0.2560797411906136, 553.0)"
            ]
          },
          "metadata": {
            "tags": []
          },
          "execution_count": 51
        }
      ]
    },
    {
      "cell_type": "code",
      "metadata": {
        "ExecuteTime": {
          "end_time": "2020-11-22T05:54:48.138424Z",
          "start_time": "2020-11-22T05:54:48.110502Z"
        },
        "id": "8VPvqiQWwaV8",
        "outputId": "d7899961-3c6c-4817-ce6f-45ac06d8d545"
      },
      "source": [
        "stats.t.ppf(0.975,df=79)  "
      ],
      "execution_count": null,
      "outputs": [
        {
          "output_type": "execute_result",
          "data": {
            "text/plain": [
              "1.9904502099893602"
            ]
          },
          "metadata": {
            "tags": []
          },
          "execution_count": 21
        }
      ]
    },
    {
      "cell_type": "code",
      "metadata": {
        "ExecuteTime": {
          "end_time": "2020-11-22T06:00:32.805599Z",
          "start_time": "2020-11-22T06:00:32.794629Z"
        },
        "id": "J_6N3yyUwaV9",
        "outputId": "9bbec565-e1df-4a97-8bb8-1dd21cf8356b"
      },
      "source": [
        "stats.norm.ppf(0.975) "
      ],
      "execution_count": null,
      "outputs": [
        {
          "output_type": "execute_result",
          "data": {
            "text/plain": [
              "1.959963984540054"
            ]
          },
          "metadata": {
            "tags": []
          },
          "execution_count": 22
        }
      ]
    },
    {
      "cell_type": "code",
      "metadata": {
        "id": "mb-8WtOzwaV9"
      },
      "source": [
        ""
      ],
      "execution_count": null,
      "outputs": []
    }
  ]
}